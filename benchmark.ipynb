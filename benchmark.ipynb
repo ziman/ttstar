{
 "cells": [
  {
   "cell_type": "code",
   "execution_count": 26,
   "metadata": {
    "collapsed": true
   },
   "outputs": [],
   "source": [
    "library(ggplot2)\n",
    "library(reshape2)"
   ]
  },
  {
   "cell_type": "code",
   "execution_count": 36,
   "metadata": {
    "collapsed": false
   },
   "outputs": [
    {
     "name": "stdout",
     "output_type": "stream",
     "text": [
      "'data.frame':\t44 obs. of  4 variables:\n",
      " $ program   : Factor w/ 1 level \"palindrome\": 1 1 1 1 1 1 1 1 1 1 ...\n",
      " $ erasure   : Factor w/ 2 levels \"erased\",\"unerased\": 2 1 2 1 2 1 2 1 2 1 ...\n",
      " $ input.size: int  1 1 4 4 7 7 10 10 13 13 ...\n",
      " $ runtime   : num  0.143 0.067 0.153 0.073 0.137 0.073 0.163 0.077 0.193 0.073 ...\n"
     ]
    }
   ],
   "source": [
    "xs <- read.csv('benchmark.csv')\n",
    "str(xs)"
   ]
  },
  {
   "cell_type": "code",
   "execution_count": 37,
   "metadata": {
    "collapsed": false
   },
   "outputs": [
    {
     "data": {},
     "metadata": {},
     "output_type": "display_data"
    },
    {
     "data": {
      "image/png": "[encoded data removed]",
      "text/plain": [
       "plot without title"
      ]
     },
     "metadata": {},
     "output_type": "display_data"
    }
   ],
   "source": [
    "ggplot(dataset, aes(x=input.size, y=runtime, colour=erasure)) +\n",
    "    geom_point()"
   ]
  },
  {
   "cell_type": "code",
   "execution_count": null,
   "metadata": {
    "collapsed": true
   },
   "outputs": [],
   "source": []
  }
 ],
 "metadata": {
  "kernelspec": {
   "display_name": "R",
   "language": "R",
   "name": "ir"
  },
  "language_info": {
   "codemirror_mode": "r",
   "file_extension": ".r",
   "mimetype": "text/x-r-source",
   "name": "R",
   "pygments_lexer": "r",
   "version": "3.3.3"
  }
 },
 "nbformat": 4,
 "nbformat_minor": 2
}
