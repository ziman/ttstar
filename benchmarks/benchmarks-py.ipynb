{
 "cells": [
  {
   "cell_type": "code",
   "execution_count": null,
   "metadata": {},
   "outputs": [],
   "source": [
    "import pandas as pd\n",
    "import numpy as np\n",
    "import plotnine as gg\n",
    "import sklearn.linear_model\n",
    "import statsmodels.formula.api as smf\n",
    "from plotnine import *"
   ]
  },
  {
   "cell_type": "code",
   "execution_count": null,
   "metadata": {},
   "outputs": [],
   "source": [
    "#xs = pd.read_csv('benchmark-1490607733.csv')\n",
    "xs = pd.read_csv('benchmark-1491380156.csv')\n",
    "#xs = pd.read_csv('benchmark-1493248450.csv')\n",
    "#xs = pd.read_csv('benchmark-1493251003.csv')\n",
    "\n",
    "xs['config'] = xs['stage'] + '-'\n",
    "for col in 'inference specialisation verification normalisation compilation'.split():\n",
    "    # the comparison to `True` is a hack to set NaNs to False\n",
    "    xs.loc[xs[col] == True, 'config'] += col[0]\n",
    "\n",
    "xs.head()"
   ]
  },
  {
   "cell_type": "code",
   "execution_count": null,
   "metadata": {},
   "outputs": [],
   "source": [
    "# ttstar\n",
    "ttstar = xs.loc[xs['stage'] == 'ttstar', :]\n",
    "plot = ggplot(ttstar, aes(x='config', y='runtime')) \\\n",
    "    + geom_boxplot() \\\n",
    "    + coord_flip() \\\n",
    "    + ggtitle(\"TTstar runtime\")\n",
    "    \n",
    "print(plot)\n",
    "plot.save('ttstar-runtime.pdf', width=5.6, height=2.6, units='in')"
   ]
  },
  {
   "cell_type": "code",
   "execution_count": null,
   "metadata": {},
   "outputs": [],
   "source": [
    "model = sklearn.linear_model.LinearRegression()\n",
    "model.fit(\n",
    "    X=ttstar.loc[:, ('inference', 'verification', 'normalisation')],\n",
    "    y=ttstar['runtime']\n",
    ")\n",
    "print('intercept =', model.intercept_)\n",
    "print('coefficients =', model.coef_)"
   ]
  },
  {
   "cell_type": "code",
   "execution_count": null,
   "metadata": {},
   "outputs": [],
   "source": [
    "smf.ols('runtime ~ inference + verification + normalisation', data=ttstar).fit().summary()"
   ]
  }
 ],
 "metadata": {
  "kernelspec": {
   "display_name": "Python 3",
   "language": "python",
   "name": "python3"
  },
  "language_info": {
   "codemirror_mode": {
    "name": "ipython",
    "version": 3
   },
   "file_extension": ".py",
   "mimetype": "text/x-python",
   "name": "python",
   "nbconvert_exporter": "python",
   "pygments_lexer": "ipython3",
   "version": "3.6.1"
  }
 },
 "nbformat": 4,
 "nbformat_minor": 2
}
