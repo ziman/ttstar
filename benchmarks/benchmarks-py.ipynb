{
 "cells": [
  {
   "cell_type": "code",
   "execution_count": null,
   "metadata": {},
   "outputs": [],
   "source": [
    "import pandas as pd\n",
    "import numpy as np\n",
    "import plotnine as gg\n",
    "import sklearn.linear_model\n",
    "import statsmodels.formula.api as smf\n",
    "from plotnine import *"
   ]
  },
  {
   "cell_type": "code",
   "execution_count": null,
   "metadata": {},
   "outputs": [],
   "source": [
    "#xs = pd.read_csv('benchmark-1490607733.csv')\n",
    "xs = pd.read_csv('benchmark-1491380156.csv')\n",
    "#xs = pd.read_csv('benchmark-1493248450.csv')\n",
    "#xs = pd.read_csv('benchmark-1493251003.csv')\n",
    "\n",
    "xs['config'] = xs['stage'] + '-'\n",
    "for col in 'inference specialisation verification normalisation compilation'.split():\n",
    "    # the comparison to `True` is a hack to set NaNs to False\n",
    "    xs.loc[xs[col] == True, 'config'] += col[0]\n",
    "    \n",
    "xs['runtime_ms'] = 1000 * xs['runtime']\n",
    "\n",
    "xs.head()"
   ]
  },
  {
   "cell_type": "code",
   "execution_count": null,
   "metadata": {},
   "outputs": [],
   "source": [
    "# ttstar\n",
    "ttstar = xs.loc[xs['stage'] == 'ttstar']\n",
    "plot = ggplot(ttstar, aes(x='config', y='runtime_ms')) \\\n",
    "    + geom_boxplot() \\\n",
    "    + geom_hline(yintercept=0, color='white') \\\n",
    "    + coord_flip() \\\n",
    "    + xlab('') + ylab('program runtime [ms]') \\\n",
    "    + ggtitle(\"TTstar runtime\")\n",
    "    \n",
    "print(plot)\n",
    "plot.save('ttstar-runtime.pdf', width=5.6, height=2.6, units='in')"
   ]
  },
  {
   "cell_type": "code",
   "execution_count": null,
   "metadata": {},
   "outputs": [],
   "source": [
    "model = sklearn.linear_model.LinearRegression()\n",
    "model.fit(\n",
    "    X=ttstar.loc[:, ('inference', 'verification', 'normalisation')],\n",
    "    y=ttstar['runtime_ms']\n",
    ")\n",
    "print('intercept =', model.intercept_)\n",
    "print('coefficients =', model.coef_)"
   ]
  },
  {
   "cell_type": "code",
   "execution_count": null,
   "metadata": {},
   "outputs": [],
   "source": [
    "smf.ols('runtime_ms ~ inference + verification + normalisation', data=ttstar).fit().summary()"
   ]
  },
  {
   "cell_type": "code",
   "execution_count": null,
   "metadata": {},
   "outputs": [],
   "source": [
    "csc = xs.loc[xs['stage'] == 'csc']\n",
    "\n",
    "smf.ols('runtime_ms ~ inference + verification + normalisation', data=csc).fit().summary()"
   ]
  },
  {
   "cell_type": "code",
   "execution_count": null,
   "metadata": {},
   "outputs": [],
   "source": [
    "plot = ggplot(csc, aes(x='config', y='runtime_ms')) \\\n",
    "    + geom_boxplot() \\\n",
    "    + geom_hline(yintercept=0, color='white') \\\n",
    "    + xlab('') + ylab('code generation time [ms]') \\\n",
    "    + coord_flip() \\\n",
    "    + ggtitle(\"Code generation\")\n",
    "    \n",
    "print(plot)\n",
    "plot.save('csc-runtime.pdf', width=5.6, height=2.6, units='in')"
   ]
  },
  {
   "cell_type": "code",
   "execution_count": null,
   "metadata": {},
   "outputs": [],
   "source": [
    "exec = xs.loc[(xs['stage'] == 'execution') & ~xs['normalisation'] & ~xs['verification']]\n",
    "\n",
    "ggplot(exec.loc[exec['inference']], aes(x='input_size', y='runtime', color='config')) \\\n",
    "    + geom_point(alpha=0.3) \\\n",
    "    + ggtitle('Effect of compilation on erased programs')"
   ]
  },
  {
   "cell_type": "code",
   "execution_count": null,
   "metadata": {
    "collapsed": true
   },
   "outputs": [],
   "source": []
  }
 ],
 "metadata": {
  "kernelspec": {
   "display_name": "Python 3",
   "language": "python",
   "name": "python3"
  },
  "language_info": {
   "codemirror_mode": {
    "name": "ipython",
    "version": 3
   },
   "file_extension": ".py",
   "mimetype": "text/x-python",
   "name": "python",
   "nbconvert_exporter": "python",
   "pygments_lexer": "ipython3",
   "version": "3.6.1"
  }
 },
 "nbformat": 4,
 "nbformat_minor": 2
}
