{
 "cells": [
  {
   "cell_type": "markdown",
   "metadata": {},
   "source": [
    "# TTstar benchmarks\n",
    "\n",
    "First, let's get formalities out of the way."
   ]
  },
  {
   "cell_type": "code",
   "execution_count": null,
   "metadata": {
    "collapsed": true
   },
   "outputs": [],
   "source": [
    "library(ggplot2)\n",
    "library(reshape2)\n",
    "library(repr)\n",
    "\n",
    "options(repr.plot.width=4, repr.plot.height=3)"
   ]
  },
  {
   "cell_type": "code",
   "execution_count": null,
   "metadata": {
    "collapsed": false,
    "scrolled": true
   },
   "outputs": [],
   "source": [
    "# load measured data\n",
    "#xs <- read.csv('benchmark-1490607733.csv')\n",
    "#xs <- read.csv('benchmark-1491380156.csv')\n",
    "#xs <- read.csv('benchmark-1493248450.csv')\n",
    "xs <- read.csv('benchmark-1493251003.csv')\n",
    "str(xs)"
   ]
  },
  {
   "cell_type": "code",
   "execution_count": null,
   "metadata": {
    "collapsed": false
   },
   "outputs": [],
   "source": [
    "# convert strings \"True\"/\"False\" into proper R booleans\n",
    "bools <- c('inference', 'specialisation', 'verification', 'normalisation', 'compilation')\n",
    "nas <- xs[,bools] == \"\"\n",
    "xs[,bools] <- xs[,bools] == \"True\"\n",
    "xs[,bools][nas] <- NA"
   ]
  },
  {
   "cell_type": "markdown",
   "metadata": {},
   "source": [
    "Next, we build configuration descriptors in the form `$stage-$features`.\n",
    "\n",
    "There are three stages:\n",
    "* `ttstar` -- takes TTstar source, emits Scheme source\n",
    "* `csc` -- compiles Scheme source to native code (via GCC); not present if intepreting\n",
    "* `execute` -- running the final program\n",
    "  * either compiled in the `csc` stage\n",
    "  * or interpreted using `csi` directly from the Scheme source\n",
    "  \n",
    "There are features that can be enabled or disabled:\n",
    "* `i`-nference -- erasure inference + erasure\n",
    "* `s`-pecialisation -- erasure polymorphism\n",
    "* `v`-erification -- final type check of the fully explicitly erasure-annotated program\n",
    "* `n`-ormalisation -- NF-reduction of the final program\n",
    "* `c`-ompilation -- running `csc`, the Scheme compiler\n",
    "\n",
    "If the flag `c` is not present, the Scheme program is interpreted using `csi`."
   ]
  },
  {
   "cell_type": "code",
   "execution_count": null,
   "metadata": {
    "collapsed": false
   },
   "outputs": [],
   "source": [
    "# make config strings\n",
    "tr <- xs\n",
    "\n",
    "block <- xs[,bools]\n",
    "block[is.na(block)] <- F\n",
    "\n",
    "tr$config <- paste(as.character(tr$stage), \"-\", sep=\"\")\n",
    "for (col in bools) {\n",
    "    tr$config[block[,col]] <- paste(tr$config[block[,col]], substr(col, 1, 1), sep=\"\")\n",
    "}\n",
    "tr$config <- factor(tr$config)"
   ]
  },
  {
   "cell_type": "markdown",
   "metadata": {},
   "source": [
    "## Stage: TTstar\n",
    "\n",
    "We can clearly see that while normalisation and verification take just a little bit of time, erasure inference takes the bulk of processing time."
   ]
  },
  {
   "cell_type": "code",
   "execution_count": null,
   "metadata": {
    "collapsed": false
   },
   "outputs": [],
   "source": [
    "# ttstar\n",
    "ttstar <- tr[tr$stage == \"ttstar\",]\n",
    "\n",
    "options(repr.plot.width=6, repr.plot.height=3)\n",
    "ggplot(ttstar, aes(x=config, y=runtime)) +\n",
    "    geom_boxplot() +\n",
    "    coord_flip() +\n",
    "    expand_limits(y=0) +\n",
    "    ggtitle(\"TTstar runtime\")\n",
    "ggsave('ttstar-runtime.pdf', width=5.6, height=2.6, units='in')"
   ]
  },
  {
   "cell_type": "markdown",
   "metadata": {},
   "source": [
    "If we run multivariate linear regression, we learn that in this program:\n",
    "* inference takes **100 ms**\n",
    "* verification takes **2.2 ms**\n",
    "* normalisation takes **1.6 ms**\n",
    "* other overheads (parsing, testing harness, ...) take **9.3 ms**"
   ]
  },
  {
   "cell_type": "code",
   "execution_count": null,
   "metadata": {
    "collapsed": false
   },
   "outputs": [],
   "source": [
    "m <- lm(runtime ~ inference + verification + normalisation, data=ttstar)\n",
    "summary(m)"
   ]
  },
  {
   "cell_type": "markdown",
   "metadata": {},
   "source": [
    "## Stage: Chicken Scheme compiler\n",
    "\n",
    "Here we can see that while erasure inference takes **100 ms** itself, it shaves **2 seconds** off code generation."
   ]
  },
  {
   "cell_type": "code",
   "execution_count": null,
   "metadata": {
    "collapsed": false
   },
   "outputs": [],
   "source": [
    "# ttstar\n",
    "csc <- tr[tr$stage == \"csc\",]\n",
    "\n",
    "options(repr.plot.width=6, repr.plot.height=3)\n",
    "ggplot(csc, aes(x=config, y=runtime)) +\n",
    "    geom_boxplot() +\n",
    "    coord_flip() +\n",
    "    expand_limits(y=0) +\n",
    "    ggtitle(\"Chicken Scheme compiler runtime\")\n",
    "ggsave('csc-runtime.pdf', width=5.6, height=2.6, units='in')"
   ]
  },
  {
   "cell_type": "code",
   "execution_count": null,
   "metadata": {
    "collapsed": false
   },
   "outputs": [],
   "source": [
    "m <- lm(runtime ~ inference + verification + normalisation, data=csc)\n",
    "summary(m)"
   ]
  },
  {
   "cell_type": "code",
   "execution_count": null,
   "metadata": {
    "collapsed": false
   },
   "outputs": [],
   "source": [
    "# ttstar\n",
    "exec <- tr[tr$stage == \"execution\" & !tr$normalisation & !tr$verification,]\n",
    "\n",
    "options(repr.plot.width=7, repr.plot.height=5)\n",
    "ggplot(exec[exec$inference,], aes(x=input_size, y=runtime, color=config)) +\n",
    "    geom_point(alpha=0.3) +\n",
    "    ggtitle(\"Effect of compilation on erased programs\")\n",
    "ggsave('exec-runtime-erased-compilation.pdf', width=2.8, height=2.5, units='in')"
   ]
  },
  {
   "cell_type": "code",
   "execution_count": null,
   "metadata": {
    "collapsed": false
   },
   "outputs": [],
   "source": [
    "ggplot(exec[!exec$compilation & (exec$runtime < 20.5),], aes(x=input_size, y=runtime, color=config)) +\n",
    "    geom_point(alpha=0.3) +\n",
    "    facet_grid(. ~ factor(inference, labels=c('unerased', 'erased')), scales='free_x') +\n",
    "    xlab('input size') + ylab('runtime (s)') +\n",
    "    guides(color=F) # remove legend for colour\n",
    "    #ggtitle(\"Effect of erasure on interpreted programs\")\n",
    "ggsave('exec-runtime-interpreted-erasure.pdf', width=5.6, height=3.0, units='in')"
   ]
  },
  {
   "cell_type": "code",
   "execution_count": null,
   "metadata": {
    "collapsed": false
   },
   "outputs": [],
   "source": [
    "ggplot(exec[exec$compilation,], aes(x=input_size, y=runtime, color=config)) +\n",
    "    geom_point(alpha=0.3) +\n",
    "    facet_grid(. ~ factor(inference, labels=c('unerased', 'erased')), scales='free_x') +\n",
    "    xlab('input size') + ylab('runtime (s)') +\n",
    "    guides(color=F) # remove legend for colour\n",
    "    #ggtitle(\"Effect of erasure on interpreted programs\")\n",
    "ggsave('exec-runtime-compiled-erasure.pdf', width=5.6, height=3.0, units='in')"
   ]
  },
  {
   "cell_type": "code",
   "execution_count": null,
   "metadata": {
    "collapsed": false
   },
   "outputs": [],
   "source": [
    "df <- exec[exec$compilation & !exec$inference & (exec$input_size >= 20), c('input_size', 'runtime', 'config')]\n",
    "ggplot(df, aes(x=input_size, y=runtime, color=config)) +\n",
    "    geom_point(alpha=0.3) +\n",
    "    scale_x_continuous(trans='log') +\n",
    "    scale_y_continuous(trans='log')\n",
    "\n",
    "m <- lm(log(runtime) ~ log(input_size), data=df)\n",
    "summary(m)\n",
    "\n",
    "# again, it's cubic!\n",
    "# and when erased, it's linear"
   ]
  },
  {
   "cell_type": "code",
   "execution_count": null,
   "metadata": {
    "collapsed": false
   },
   "outputs": [],
   "source": [
    "ggplot(exec[!exec$inference,], aes(x=input_size, y=runtime, color=config)) +\n",
    "    geom_point(alpha=0.3) +\n",
    "    ggtitle(\"Effect of compilation on unerased programs\")\n",
    "ggsave('exec-runtime-unerased-compilation.pdf', width=2.8, height=2.5, units='in')"
   ]
  },
  {
   "cell_type": "code",
   "execution_count": null,
   "metadata": {
    "collapsed": false
   },
   "outputs": [],
   "source": [
    "plt <- ggplot(exec[!exec$compilation & !exec$inference,], aes(x=input_size, y=runtime, color=config)) +\n",
    "    xlab('input size (bits)') + ylab('runtime (s)') +\n",
    "    guides(color=F) # remove legend for colour\n",
    "    #ggtitle(\"Effect of erasure on interpreted programs\")\n",
    "plt\n",
    "ggsave('talk-blank.pdf', width=5, height=3.2, units='in')"
   ]
  },
  {
   "cell_type": "code",
   "execution_count": null,
   "metadata": {
    "collapsed": false
   },
   "outputs": [],
   "source": [
    "plt + geom_point() + geom_line()\n",
    "ggsave('talk-unerased.pdf', width=5, height=3.2, units='in')"
   ]
  },
  {
   "cell_type": "code",
   "execution_count": null,
   "metadata": {
    "collapsed": false
   },
   "outputs": [],
   "source": [
    "plt <- ggplot(exec[!exec$compilation & exec$inference,], aes(x=input_size, y=runtime, color=config)) +\n",
    "    geom_point() + geom_line() +\n",
    "    xlab('input size (bits)') + ylab('runtime (s)') +\n",
    "    guides(color=F) # remove legend for colour\n",
    "    #ggtitle(\"Effect of erasure on interpreted programs\")\n",
    "plt\n",
    "ggsave('talk-erased.pdf', width=5, height=3.2, units='in')"
   ]
  }
 ],
 "metadata": {
  "kernelspec": {
   "display_name": "R",
   "language": "R",
   "name": "ir"
  },
  "language_info": {
   "codemirror_mode": "r",
   "file_extension": ".r",
   "mimetype": "text/x-r-source",
   "name": "R",
   "pygments_lexer": "r",
   "version": "3.3.3"
  }
 },
 "nbformat": 4,
 "nbformat_minor": 2
}
