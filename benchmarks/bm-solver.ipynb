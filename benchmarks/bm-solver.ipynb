{
 "cells": [
  {
   "cell_type": "code",
   "execution_count": null,
   "metadata": {
    "collapsed": false
   },
   "outputs": [],
   "source": [
    "library(ggplot2)\n",
    "library(reshape2)\n",
    "library(repr)\n",
    "library(plyr)\n",
    "library(dplyr)\n",
    "library(ggthemes)\n",
    "\n",
    "options(repr.plot.width=4, repr.plot.height=3)"
   ]
  },
  {
   "cell_type": "code",
   "execution_count": null,
   "metadata": {
    "collapsed": false
   },
   "outputs": [],
   "source": [
    "xs <- read.csv('solver-1502985187.csv', h=T)\n",
    "xs$erasure = mapvalues(\n",
    "    xs$erasure,\n",
    "    from = c(\"True\", \"False\"),\n",
    "    to   = c(1, 0)\n",
    ")\n",
    "str(xs)"
   ]
  },
  {
   "cell_type": "code",
   "execution_count": null,
   "metadata": {
    "collapsed": false
   },
   "outputs": [],
   "source": [
    "options(repr.plot.width=4, repr.plot.height=3)\n",
    "ggplot(xs, aes(annotations, duration, colour=erasure)) +\n",
    "    geom_point()"
   ]
  },
  {
   "cell_type": "code",
   "execution_count": null,
   "metadata": {
    "collapsed": false
   },
   "outputs": [],
   "source": [
    "xs %>%\n",
    "    filter(annotations < 200 & duration > 0.025) %>%\n",
    "    arrange(desc(duration))"
   ]
  },
  {
   "cell_type": "code",
   "execution_count": null,
   "metadata": {
    "collapsed": false
   },
   "outputs": [],
   "source": [
    "xs_averaged <- xs %>%\n",
    "    group_by(program, annotations, annotations_used, erasure) %>%\n",
    "    summarise(\n",
    "        duration_mean = mean(duration),\n",
    "        duration_sd = sd(duration)\n",
    "    )"
   ]
  },
  {
   "cell_type": "code",
   "execution_count": null,
   "metadata": {
    "collapsed": false
   },
   "outputs": [],
   "source": [
    "diff <- function(xs) {\n",
    "    if (length(xs) == 2) {\n",
    "        xs[2] - xs[1]\n",
    "    } else {\n",
    "        NA\n",
    "    }\n",
    "}\n",
    "\n",
    "xs_diff <- xs_averaged %>%\n",
    "    group_by(program, annotations) %>%\n",
    "    summarise(\n",
    "        annotations_used = min(annotations_used),\n",
    "        difference = diff(duration_mean),\n",
    "        difference_sd = sum(duration_sd)\n",
    "    )\n",
    "xs_diff"
   ]
  },
  {
   "cell_type": "code",
   "execution_count": null,
   "metadata": {
    "collapsed": false
   },
   "outputs": [],
   "source": [
    "mytheme <- theme_minimal() +\n",
    "    theme(\n",
    "        axis.text=element_text(size=8),\n",
    "        axis.title=element_text(size=8)\n",
    "    )\n",
    "\n",
    "options(repr.plot.width=3, repr.plot.height=3)\n",
    "ggplot(xs_diff %>% filter(difference < 0), aes(annotations, -1000 * difference)) +\n",
    "    geom_point(size=0.5) +\n",
    "    geom_text(aes(label=program), size=3, vjust=0.3, hjust=1, nudge_x=-15) +\n",
    "    #ylim(0, 40) +\n",
    "    ylab(\"inference time [ms]\") +\n",
    "    mytheme"
   ]
  },
  {
   "cell_type": "code",
   "execution_count": null,
   "metadata": {
    "collapsed": false
   },
   "outputs": [],
   "source": [
    "ggplot(xs_diff %>% filter(difference < 0), aes(annotations_used, -1000 * difference)) +\n",
    "    geom_point(size=0.5) +\n",
    "    geom_text(aes(label=program), size=3, vjust=0.3, hjust=1, nudge_x=-15) +\n",
    "    #ylim(0, 40) +\n",
    "    ylab(\"inference time [ms]\") +\n",
    "    mytheme"
   ]
  }
 ],
 "metadata": {
  "kernelspec": {
   "display_name": "R",
   "language": "R",
   "name": "ir"
  },
  "language_info": {
   "codemirror_mode": "r",
   "file_extension": ".r",
   "mimetype": "text/x-r-source",
   "name": "R",
   "pygments_lexer": "r",
   "version": "3.3.3"
  }
 },
 "nbformat": 4,
 "nbformat_minor": 1
}
